{
  "nbformat": 4,
  "nbformat_minor": 0,
  "metadata": {
    "colab": {
      "name": "Trabalho_2.ipynb",
      "provenance": []
    },
    "kernelspec": {
      "name": "python3",
      "display_name": "Python 3"
    },
    "language_info": {
      "name": "python"
    }
  },
  "cells": [
    {
      "cell_type": "code",
      "metadata": {
        "id": "GDUOlZy39AM7"
      },
      "source": [
        "import pandas as pd\n",
        "from sklearn.cluster import KMeans\n",
        "from sklearn.metrics import silhouette_score, davies_bouldin_score\n",
        "import matplotlib.pyplot as plt"
      ],
      "execution_count": 1,
      "outputs": []
    },
    {
      "cell_type": "markdown",
      "metadata": {
        "id": "rnBSwiZ59Ec5"
      },
      "source": [
        "## Leitura dos Dados"
      ]
    },
    {
      "cell_type": "code",
      "metadata": {
        "id": "_sT9RDSK9BXJ"
      },
      "source": [
        "data = pd.read_csv('https://www.ic.unicamp.br/~wainer/cursos/2s2021/433/ex2-data.csv', delim_whitespace=True, header=None)"
      ],
      "execution_count": 2,
      "outputs": []
    },
    {
      "cell_type": "code",
      "metadata": {
        "colab": {
          "base_uri": "https://localhost:8080/",
          "height": 204
        },
        "id": "c7j3JAs49GPp",
        "outputId": "a410aa41-d673-434d-cb53-116f682f9821"
      },
      "source": [
        "data.head()"
      ],
      "execution_count": 3,
      "outputs": [
        {
          "output_type": "execute_result",
          "data": {
            "text/html": [
              "<div>\n",
              "<style scoped>\n",
              "    .dataframe tbody tr th:only-of-type {\n",
              "        vertical-align: middle;\n",
              "    }\n",
              "\n",
              "    .dataframe tbody tr th {\n",
              "        vertical-align: top;\n",
              "    }\n",
              "\n",
              "    .dataframe thead th {\n",
              "        text-align: right;\n",
              "    }\n",
              "</style>\n",
              "<table border=\"1\" class=\"dataframe\">\n",
              "  <thead>\n",
              "    <tr style=\"text-align: right;\">\n",
              "      <th></th>\n",
              "      <th>0</th>\n",
              "      <th>1</th>\n",
              "      <th>2</th>\n",
              "      <th>3</th>\n",
              "      <th>4</th>\n",
              "      <th>5</th>\n",
              "      <th>6</th>\n",
              "      <th>7</th>\n",
              "      <th>8</th>\n",
              "      <th>9</th>\n",
              "      <th>10</th>\n",
              "      <th>11</th>\n",
              "      <th>12</th>\n",
              "    </tr>\n",
              "  </thead>\n",
              "  <tbody>\n",
              "    <tr>\n",
              "      <th>0</th>\n",
              "      <td>-10.63</td>\n",
              "      <td>-3.91</td>\n",
              "      <td>27.69</td>\n",
              "      <td>2.32</td>\n",
              "      <td>-8.17</td>\n",
              "      <td>-6.15</td>\n",
              "      <td>-2.45</td>\n",
              "      <td>-10.30</td>\n",
              "      <td>-5.62</td>\n",
              "      <td>7.98</td>\n",
              "      <td>5.32</td>\n",
              "      <td>1.35</td>\n",
              "      <td>-4.56</td>\n",
              "    </tr>\n",
              "    <tr>\n",
              "      <th>1</th>\n",
              "      <td>12.56</td>\n",
              "      <td>-19.50</td>\n",
              "      <td>4.39</td>\n",
              "      <td>1.53</td>\n",
              "      <td>-3.55</td>\n",
              "      <td>-15.97</td>\n",
              "      <td>-9.16</td>\n",
              "      <td>4.88</td>\n",
              "      <td>5.72</td>\n",
              "      <td>1.58</td>\n",
              "      <td>-3.41</td>\n",
              "      <td>-1.85</td>\n",
              "      <td>2.55</td>\n",
              "    </tr>\n",
              "    <tr>\n",
              "      <th>2</th>\n",
              "      <td>4.19</td>\n",
              "      <td>-12.30</td>\n",
              "      <td>-22.25</td>\n",
              "      <td>-6.14</td>\n",
              "      <td>7.47</td>\n",
              "      <td>12.42</td>\n",
              "      <td>6.47</td>\n",
              "      <td>-3.35</td>\n",
              "      <td>-10.22</td>\n",
              "      <td>8.19</td>\n",
              "      <td>5.50</td>\n",
              "      <td>11.08</td>\n",
              "      <td>-2.19</td>\n",
              "    </tr>\n",
              "    <tr>\n",
              "      <th>3</th>\n",
              "      <td>-6.38</td>\n",
              "      <td>-18.36</td>\n",
              "      <td>-6.67</td>\n",
              "      <td>-1.42</td>\n",
              "      <td>-3.67</td>\n",
              "      <td>13.01</td>\n",
              "      <td>3.23</td>\n",
              "      <td>-7.46</td>\n",
              "      <td>-3.01</td>\n",
              "      <td>-4.39</td>\n",
              "      <td>-3.40</td>\n",
              "      <td>-1.06</td>\n",
              "      <td>8.25</td>\n",
              "    </tr>\n",
              "    <tr>\n",
              "      <th>4</th>\n",
              "      <td>-16.33</td>\n",
              "      <td>0.41</td>\n",
              "      <td>1.56</td>\n",
              "      <td>-10.51</td>\n",
              "      <td>9.37</td>\n",
              "      <td>-3.81</td>\n",
              "      <td>-5.21</td>\n",
              "      <td>-2.16</td>\n",
              "      <td>-6.41</td>\n",
              "      <td>-8.93</td>\n",
              "      <td>-8.05</td>\n",
              "      <td>3.81</td>\n",
              "      <td>2.76</td>\n",
              "    </tr>\n",
              "  </tbody>\n",
              "</table>\n",
              "</div>"
            ],
            "text/plain": [
              "      0      1      2      3     4   ...     8     9     10     11    12\n",
              "0 -10.63  -3.91  27.69   2.32 -8.17  ...  -5.62  7.98  5.32   1.35 -4.56\n",
              "1  12.56 -19.50   4.39   1.53 -3.55  ...   5.72  1.58 -3.41  -1.85  2.55\n",
              "2   4.19 -12.30 -22.25  -6.14  7.47  ... -10.22  8.19  5.50  11.08 -2.19\n",
              "3  -6.38 -18.36  -6.67  -1.42 -3.67  ...  -3.01 -4.39 -3.40  -1.06  8.25\n",
              "4 -16.33   0.41   1.56 -10.51  9.37  ...  -6.41 -8.93 -8.05   3.81  2.76\n",
              "\n",
              "[5 rows x 13 columns]"
            ]
          },
          "metadata": {},
          "execution_count": 3
        }
      ]
    },
    {
      "cell_type": "code",
      "metadata": {
        "colab": {
          "base_uri": "https://localhost:8080/"
        },
        "id": "O8-43yaX9H3I",
        "outputId": "409d3321-586a-4329-b05e-7773c1b9a72a"
      },
      "source": [
        "data.shape"
      ],
      "execution_count": 4,
      "outputs": [
        {
          "output_type": "execute_result",
          "data": {
            "text/plain": [
              "(1000, 13)"
            ]
          },
          "metadata": {},
          "execution_count": 4
        }
      ]
    },
    {
      "cell_type": "markdown",
      "metadata": {
        "id": "VoPy2DYs9LfU"
      },
      "source": [
        "## K-Means"
      ]
    },
    {
      "cell_type": "code",
      "metadata": {
        "id": "CaZsq6mm9KNQ"
      },
      "source": [
        "n_clusters = range(2,16)\n",
        "silhouette_scores = []\n",
        "davies_scores = []"
      ],
      "execution_count": 5,
      "outputs": []
    },
    {
      "cell_type": "code",
      "metadata": {
        "id": "FoxjiNG89R2X"
      },
      "source": [
        "for n_cluster in n_clusters:\n",
        "    clusterer = KMeans(n_clusters=n_cluster)\n",
        "    clusterer.fit(data.values)\n",
        "    \n",
        "    s_score = silhouette_score(data.values, clusterer.labels_)\n",
        "    davies_score = davies_bouldin_score(data.values, clusterer.labels_)\n",
        "    silhouette_scores.append(s_score)\n",
        "    davies_scores.append(davies_score)"
      ],
      "execution_count": 6,
      "outputs": []
    },
    {
      "cell_type": "markdown",
      "metadata": {
        "id": "T7BxZpe4HyVB"
      },
      "source": [
        "## Medidas Internas de Qualidade\n",
        "\n",
        "Nessas medidas o melhor K é dado pela silhueta maxima e Davies minímo"
      ]
    },
    {
      "cell_type": "code",
      "metadata": {
        "colab": {
          "base_uri": "https://localhost:8080/",
          "height": 385
        },
        "id": "nUZglXVnEaqV",
        "outputId": "0865b84a-b3a6-4000-c825-b1327cf46b02"
      },
      "source": [
        "fig, ax = plt.subplots(2, 1, constrained_layout = True, figsize=(10,5))\n",
        "\n",
        "ax[0].plot(n_clusters, silhouette_scores, marker='o')\n",
        "ax[0].set_ylabel('Silhouette Score')\n",
        "\n",
        "ax[1].plot(n_clusters, davies_scores, marker='o')\n",
        "ax[1].set_ylabel('Davies Bouldin Score')\n",
        "\n",
        "fig.suptitle('Internal Quality Mesures', fontsize=15)\n",
        "plt.xlabel(\"Number of clusters (K)\")\n",
        "\n",
        "plt.show()\n"
      ],
      "execution_count": 7,
      "outputs": [
        {
          "output_type": "display_data",
          "data": {
            "image/png": "[encoded data removed]",
            "text/plain": [
              "<Figure size 720x360 with 2 Axes>"
            ]
          },
          "metadata": {
            "needs_background": "light"
          }
        }
      ]
    },
    {
      "cell_type": "code",
      "metadata": {
        "id": "ImHvd1ZVIIAf"
      },
      "source": [
        ""
      ],
      "execution_count": 7,
      "outputs": []
    }
  ]
}