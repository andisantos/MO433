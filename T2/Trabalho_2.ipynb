{
 "cells": [
  {
   "cell_type": "markdown",
   "metadata": {},
   "source": [
    "# Tarefa 02 \n",
    "\n",
    "* Andreza Aparecida dos Santos - RA 164213 \n",
    "* Gil Ribeiro de Carvalho - RA 225323 \n",
    "* Thamiris Coelho - RA 187506"
   ]
  },
  {
   "cell_type": "code",
   "execution_count": 1,
   "metadata": {
    "id": "GDUOlZy39AM7"
   },
   "outputs": [],
   "source": [
    "import pandas as pd\n",
    "import matplotlib.pyplot as plt\n",
    "\n",
    "from sklearn.cluster import KMeans\n",
    "from sklearn.mixture import GaussianMixture\n",
    "from sklearn.metrics import (\n",
    "    silhouette_score,\n",
    "    davies_bouldin_score,\n",
    "    fowlkes_mallows_score,\n",
    "    adjusted_rand_score)"
   ]
  },
  {
   "cell_type": "markdown",
   "metadata": {
    "id": "rnBSwiZ59Ec5"
   },
   "source": [
    "## Leitura dos Dados\n",
    "\n",
    "Conjunto possui 1000 dados com 13 atributos cada."
   ]
  },
  {
   "cell_type": "code",
   "execution_count": 2,
   "metadata": {
    "id": "_sT9RDSK9BXJ"
   },
   "outputs": [
    {
     "data": {
      "text/html": [
       "<div>\n",
       "<style scoped>\n",
       "    .dataframe tbody tr th:only-of-type {\n",
       "        vertical-align: middle;\n",
       "    }\n",
       "\n",
       "    .dataframe tbody tr th {\n",
       "        vertical-align: top;\n",
       "    }\n",
       "\n",
       "    .dataframe thead th {\n",
       "        text-align: right;\n",
       "    }\n",
       "</style>\n",
       "<table border=\"1\" class=\"dataframe\">\n",
       "  <thead>\n",
       "    <tr style=\"text-align: right;\">\n",
       "      <th></th>\n",
       "      <th>0</th>\n",
       "      <th>1</th>\n",
       "      <th>2</th>\n",
       "      <th>3</th>\n",
       "      <th>4</th>\n",
       "      <th>5</th>\n",
       "      <th>6</th>\n",
       "      <th>7</th>\n",
       "      <th>8</th>\n",
       "      <th>9</th>\n",
       "      <th>10</th>\n",
       "      <th>11</th>\n",
       "      <th>12</th>\n",
       "    </tr>\n",
       "  </thead>\n",
       "  <tbody>\n",
       "    <tr>\n",
       "      <th>0</th>\n",
       "      <td>-10.63</td>\n",
       "      <td>-3.91</td>\n",
       "      <td>27.69</td>\n",
       "      <td>2.32</td>\n",
       "      <td>-8.17</td>\n",
       "      <td>-6.15</td>\n",
       "      <td>-2.45</td>\n",
       "      <td>-10.30</td>\n",
       "      <td>-5.62</td>\n",
       "      <td>7.98</td>\n",
       "      <td>5.32</td>\n",
       "      <td>1.35</td>\n",
       "      <td>-4.56</td>\n",
       "    </tr>\n",
       "    <tr>\n",
       "      <th>1</th>\n",
       "      <td>12.56</td>\n",
       "      <td>-19.50</td>\n",
       "      <td>4.39</td>\n",
       "      <td>1.53</td>\n",
       "      <td>-3.55</td>\n",
       "      <td>-15.97</td>\n",
       "      <td>-9.16</td>\n",
       "      <td>4.88</td>\n",
       "      <td>5.72</td>\n",
       "      <td>1.58</td>\n",
       "      <td>-3.41</td>\n",
       "      <td>-1.85</td>\n",
       "      <td>2.55</td>\n",
       "    </tr>\n",
       "    <tr>\n",
       "      <th>2</th>\n",
       "      <td>4.19</td>\n",
       "      <td>-12.30</td>\n",
       "      <td>-22.25</td>\n",
       "      <td>-6.14</td>\n",
       "      <td>7.47</td>\n",
       "      <td>12.42</td>\n",
       "      <td>6.47</td>\n",
       "      <td>-3.35</td>\n",
       "      <td>-10.22</td>\n",
       "      <td>8.19</td>\n",
       "      <td>5.50</td>\n",
       "      <td>11.08</td>\n",
       "      <td>-2.19</td>\n",
       "    </tr>\n",
       "    <tr>\n",
       "      <th>3</th>\n",
       "      <td>-6.38</td>\n",
       "      <td>-18.36</td>\n",
       "      <td>-6.67</td>\n",
       "      <td>-1.42</td>\n",
       "      <td>-3.67</td>\n",
       "      <td>13.01</td>\n",
       "      <td>3.23</td>\n",
       "      <td>-7.46</td>\n",
       "      <td>-3.01</td>\n",
       "      <td>-4.39</td>\n",
       "      <td>-3.40</td>\n",
       "      <td>-1.06</td>\n",
       "      <td>8.25</td>\n",
       "    </tr>\n",
       "    <tr>\n",
       "      <th>4</th>\n",
       "      <td>-16.33</td>\n",
       "      <td>0.41</td>\n",
       "      <td>1.56</td>\n",
       "      <td>-10.51</td>\n",
       "      <td>9.37</td>\n",
       "      <td>-3.81</td>\n",
       "      <td>-5.21</td>\n",
       "      <td>-2.16</td>\n",
       "      <td>-6.41</td>\n",
       "      <td>-8.93</td>\n",
       "      <td>-8.05</td>\n",
       "      <td>3.81</td>\n",
       "      <td>2.76</td>\n",
       "    </tr>\n",
       "  </tbody>\n",
       "</table>\n",
       "</div>"
      ],
      "text/plain": [
       "      0      1      2      3     4      5     6      7      8     9     10  \\\n",
       "0 -10.63  -3.91  27.69   2.32 -8.17  -6.15 -2.45 -10.30  -5.62  7.98  5.32   \n",
       "1  12.56 -19.50   4.39   1.53 -3.55 -15.97 -9.16   4.88   5.72  1.58 -3.41   \n",
       "2   4.19 -12.30 -22.25  -6.14  7.47  12.42  6.47  -3.35 -10.22  8.19  5.50   \n",
       "3  -6.38 -18.36  -6.67  -1.42 -3.67  13.01  3.23  -7.46  -3.01 -4.39 -3.40   \n",
       "4 -16.33   0.41   1.56 -10.51  9.37  -3.81 -5.21  -2.16  -6.41 -8.93 -8.05   \n",
       "\n",
       "      11    12  \n",
       "0   1.35 -4.56  \n",
       "1  -1.85  2.55  \n",
       "2  11.08 -2.19  \n",
       "3  -1.06  8.25  \n",
       "4   3.81  2.76  "
      ]
     },
     "execution_count": 2,
     "metadata": {},
     "output_type": "execute_result"
    }
   ],
   "source": [
    "data = pd.read_csv('ex2-data.csv', delim_whitespace=True, header=None)\n",
    "data.head()"
   ]
  },
  {
   "cell_type": "code",
   "execution_count": 3,
   "metadata": {
    "colab": {
     "base_uri": "https://localhost:8080/"
    },
    "id": "O8-43yaX9H3I",
    "outputId": "409d3321-586a-4329-b05e-7773c1b9a72a"
   },
   "outputs": [
    {
     "data": {
      "text/plain": [
       "(1000, 13)"
      ]
     },
     "execution_count": 3,
     "metadata": {},
     "output_type": "execute_result"
    }
   ],
   "source": [
    "data.shape"
   ]
  },
  {
   "cell_type": "markdown",
   "metadata": {
    "id": "VoPy2DYs9LfU"
   },
   "source": [
    "## K-Means\n",
    "\n",
    "\n",
    "* Rode o kmeans com k de 2 a 15.\n",
    "* Use silhueta e pelo menos alguma outra medida interna de qualidade\n",
    "* moste os graficos dessas medidas versus o k\n"
   ]
  },
  {
   "cell_type": "code",
   "execution_count": 4,
   "metadata": {
    "id": "CaZsq6mm9KNQ"
   },
   "outputs": [],
   "source": [
    "n_clusters = range(2,16)\n",
    "silhouette_scores = []\n",
    "davies_scores = []\n",
    "\n",
    "for n_cluster in n_clusters:\n",
    "    clustered = KMeans(n_clusters=n_cluster)\n",
    "    clustered.fit(data.values)\n",
    "    \n",
    "    s_score = silhouette_score(data.values, clustered.labels_)\n",
    "    davies_score = davies_bouldin_score(data.values, clustered.labels_)\n",
    "    silhouette_scores.append(s_score)\n",
    "    davies_scores.append(davies_score)"
   ]
  },
  {
   "cell_type": "markdown",
   "metadata": {
    "id": "T7BxZpe4HyVB"
   },
   "source": [
    "### Medidas Internas de Qualidade\n",
    "\n",
    "Além da Silhueta, foi utilizada a medida interna de qualidade chamada Davies-Bouldin.\n",
    "\n",
    "A medida de silhueta varia entre -1 a 1, sendo 1 o melhor valor, indicando melhor clusterização.\n",
    "\n",
    "Já a medida Davies-Bouldin possui valor mínimo igual a 0, sendo que quanto mais perto do valor mínimo, melhor a clusterização.\n",
    "\n",
    "Portanto, para essas métricas, o melhor K será dado pela **silhueta máxima** e **davies minímo**"
   ]
  },
  {
   "cell_type": "code",
   "execution_count": 5,
   "metadata": {
    "colab": {
     "base_uri": "https://localhost:8080/",
     "height": 385
    },
    "id": "nUZglXVnEaqV",
    "outputId": "0865b84a-b3a6-4000-c825-b1327cf46b02",
    "scrolled": false
   },
   "outputs": [
    {
     "data": {
      "image/png": "[encoded data removed]",
      "text/plain": [
       "<Figure size 720x360 with 2 Axes>"
      ]
     },
     "metadata": {
      "needs_background": "light"
     },
     "output_type": "display_data"
    }
   ],
   "source": [
    "fig, ax = plt.subplots(2, 1, constrained_layout=True, figsize=(10,5))\n",
    "\n",
    "ax[0].plot(n_clusters, silhouette_scores, marker='o')\n",
    "ax[0].set_ylabel('Silhouette Score')\n",
    "\n",
    "ax[1].plot(n_clusters, davies_scores, marker='o')\n",
    "ax[1].set_ylabel('Davies Bouldin Score')\n",
    "\n",
    "fig.suptitle('Internal Quality Mesures', fontsize=15)\n",
    "plt.xlabel(\"Number of clusters (K)\")\n",
    "\n",
    "plt.show()"
   ]
  },
  {
   "cell_type": "markdown",
   "metadata": {},
   "source": [
    "## 2. Escolhendo um K\n",
    "\n",
    "Como apontado anteriormente, para definirmos um K, podemos pegar o que obteve maior valor na métrica silhueta ou o menor valor na métrica Davies-Bouldin.\n",
    "\n",
    "Observando os gráficos acima, estes parecem espelhados, logo é possível que a maior silhueta e o menor Davies correspondem ao mesmo valor de K."
   ]
  },
  {
   "cell_type": "code",
   "execution_count": 6,
   "metadata": {},
   "outputs": [
    {
     "name": "stdout",
     "output_type": "stream",
     "text": [
      "Melhor K usando silhouette: 9\n",
      "Melhor K usando davies-boldin: 9\n"
     ]
    }
   ],
   "source": [
    "K_silhouette = silhouette_scores.index(max(silhouette_scores))\n",
    "K_davies = davies_scores.index(min(davies_scores))\n",
    "print(\"Melhor K usando silhouette: {0}\\nMelhor K usando davies-boldin: {1}\".format(K_silhouette+2,K_davies+2))"
   ]
  },
  {
   "cell_type": "markdown",
   "metadata": {},
   "source": [
    "Como os dois pontos correspondem ao mesmo valor de K, podemos escolher o número de clusters igual a **9** ."
   ]
  },
  {
   "cell_type": "markdown",
   "metadata": {},
   "source": [
    "## 3. GMM\n",
    "\n",
    "Usando o K escolhido, rodar o GGM\n",
    "* com gaussianas esférias\n",
    "* com gaussianas diagonais\n",
    "* com gaussianas sem restrição\n"
   ]
  },
  {
   "cell_type": "markdown",
   "metadata": {},
   "source": [
    "### GMM usando K = 9"
   ]
  },
  {
   "cell_type": "code",
   "execution_count": 11,
   "metadata": {},
   "outputs": [],
   "source": [
    "ggm_full = GaussianMixture(n_components=9, covariance_type='full', n_init=1).fit(data.values)\n",
    "ggm_diag = GaussianMixture(n_components=9, covariance_type='diag', n_init=1).fit(data.values)\n",
    "ggm_spherical = GaussianMixture(n_components=9, covariance_type='spherical', n_init=1).fit(data.values)"
   ]
  },
  {
   "cell_type": "code",
   "execution_count": 12,
   "metadata": {},
   "outputs": [],
   "source": [
    "gmm_full_preds = ggm_full.predict(data.values)\n",
    "ggm_diag_preds = ggm_diag.predict(data.values)\n",
    "ggm_spherical_preds = ggm_spherical.predict(data.values)"
   ]
  },
  {
   "cell_type": "markdown",
   "metadata": {},
   "source": [
    "## 4. Medidas externas para comparar duas clusterizações\n",
    "\n",
    "Use pelo menos 2 medidas externas para comparar a solução GGM sem restrição (full) com as outras 2 (esférica e diagonal)\n",
    "\n",
    "\n",
    "* Índice de Fowlkes e Mallows: índice definido como a média geométrica entre a precisão e o recall. Varia entre 0 e 1, sendo que valores mais próximos de 1 representam maior similaridade entre dois clusters.\n",
    "\n",
    "* Índice Rand corrigido: índice que computa a similiridade entre dois clusters. Varia entre -1 e 1. Valores próximos de 1 indicam casamento perfeito entre os dois clusters.\n"
   ]
  },
  {
   "cell_type": "code",
   "execution_count": 13,
   "metadata": {},
   "outputs": [
    {
     "name": "stdout",
     "output_type": "stream",
     "text": [
      "Índide de Fowlkes and Mallows\n",
      "GMM sem restrições e GGM esférica: 0.6387533151657834\n",
      "GGM sem restrições e GGM diagonal: 0.679957417440612\n"
     ]
    }
   ],
   "source": [
    "fowlkes_full_diag = fowlkes_mallows_score(gmm_full_preds, ggm_diag_preds)\n",
    "fowlkes_full_spherical = fowlkes_mallows_score(gmm_full_preds, ggm_spherical_preds)\n",
    "\n",
    "print(\"Índide de Fowlkes and Mallows\\nGMM sem restrições e GGM esférica: {0}\\nGGM sem restrições e GGM diagonal: {1}\".format(fowlkes_full_spherical,fowlkes_full_diag))"
   ]
  },
  {
   "cell_type": "code",
   "execution_count": 14,
   "metadata": {},
   "outputs": [
    {
     "name": "stdout",
     "output_type": "stream",
     "text": [
      "Índide de Rand Corrigido\n",
      "GMM sem restrições e GGM esférica: 0.5831916501010029\n",
      "GGM sem restrições e GGM diagonal: 0.632605817013354\n"
     ]
    }
   ],
   "source": [
    "adjusted_rand_full_diag = adjusted_rand_score(gmm_full_preds, ggm_diag_preds)\n",
    "adjusted_rand_full_spherical = adjusted_rand_score(gmm_full_preds, ggm_spherical_preds)\n",
    "\n",
    "print(\"Índide de Rand Corrigido\\nGMM sem restrições e GGM esférica: {0}\\nGGM sem restrições e GGM diagonal: {1}\".format(adjusted_rand_full_spherical, adjusted_rand_full_diag))"
   ]
  }
 ],
 "metadata": {
  "colab": {
   "name": "Trabalho_2.ipynb",
   "provenance": []
  },
  "kernelspec": {
   "display_name": "Python 3",
   "language": "python",
   "name": "python3"
  },
  "language_info": {
   "codemirror_mode": {
    "name": "ipython",
    "version": 3
   },
   "file_extension": ".py",
   "mimetype": "text/x-python",
   "name": "python",
   "nbconvert_exporter": "python",
   "pygments_lexer": "ipython3",
   "version": "3.8.10"
  }
 },
 "nbformat": 4,
 "nbformat_minor": 1
}
