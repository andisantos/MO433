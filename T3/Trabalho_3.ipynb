{
 "cells": [
  {
   "cell_type": "markdown",
   "metadata": {},
   "source": [
    "# Tarefa 03 \n",
    "\n",
    "* Andreza Aparecida dos Santos - RA 164213 \n",
    "* Gil Ribeiro de Carvalho - RA 225323 \n",
    "* Thamiris Coelho - RA 187506"
   ]
  },
  {
   "cell_type": "code",
   "execution_count": 1,
   "metadata": {
    "id": "GDUOlZy39AM7"
   },
   "outputs": [],
   "source": [
    "import numpy as np\n",
    "import pandas as pd\n",
    "import matplotlib.pyplot as plt\n",
    "\n",
    "from sklearn.neighbors import LocalOutlierFactor\n",
    "from sklearn.ensemble import IsolationForest\n",
    "from sklearn import svm"
   ]
  },
  {
   "cell_type": "markdown",
   "metadata": {
    "id": "rnBSwiZ59Ec5"
   },
   "source": [
    "## Leitura dos Dados\n",
    "\n",
    "Conjunto possui 900 dados \"normais\" e até 7 outliers."
   ]
  },
  {
   "cell_type": "code",
   "execution_count": 2,
   "metadata": {
    "id": "_sT9RDSK9BXJ"
   },
   "outputs": [
    {
     "data": {
      "text/html": [
       "<div>\n",
       "<style scoped>\n",
       "    .dataframe tbody tr th:only-of-type {\n",
       "        vertical-align: middle;\n",
       "    }\n",
       "\n",
       "    .dataframe tbody tr th {\n",
       "        vertical-align: top;\n",
       "    }\n",
       "\n",
       "    .dataframe thead th {\n",
       "        text-align: right;\n",
       "    }\n",
       "</style>\n",
       "<table border=\"1\" class=\"dataframe\">\n",
       "  <thead>\n",
       "    <tr style=\"text-align: right;\">\n",
       "      <th></th>\n",
       "      <th>V1</th>\n",
       "      <th>V2</th>\n",
       "      <th>V3</th>\n",
       "      <th>V4</th>\n",
       "      <th>V5</th>\n",
       "      <th>V6</th>\n",
       "      <th>V7</th>\n",
       "      <th>V8</th>\n",
       "      <th>V9</th>\n",
       "      <th>V10</th>\n",
       "    </tr>\n",
       "  </thead>\n",
       "  <tbody>\n",
       "    <tr>\n",
       "      <th>0</th>\n",
       "      <td>-2.97</td>\n",
       "      <td>1.020</td>\n",
       "      <td>-2.340</td>\n",
       "      <td>3.460</td>\n",
       "      <td>1.630</td>\n",
       "      <td>0.157</td>\n",
       "      <td>-2.660</td>\n",
       "      <td>0.559</td>\n",
       "      <td>-5.27</td>\n",
       "      <td>1.960</td>\n",
       "    </tr>\n",
       "    <tr>\n",
       "      <th>1</th>\n",
       "      <td>4.30</td>\n",
       "      <td>-0.817</td>\n",
       "      <td>1.410</td>\n",
       "      <td>-2.160</td>\n",
       "      <td>0.673</td>\n",
       "      <td>0.870</td>\n",
       "      <td>-1.220</td>\n",
       "      <td>1.620</td>\n",
       "      <td>3.43</td>\n",
       "      <td>-0.771</td>\n",
       "    </tr>\n",
       "    <tr>\n",
       "      <th>2</th>\n",
       "      <td>-2.62</td>\n",
       "      <td>0.378</td>\n",
       "      <td>-1.010</td>\n",
       "      <td>1.430</td>\n",
       "      <td>-0.278</td>\n",
       "      <td>-0.384</td>\n",
       "      <td>0.613</td>\n",
       "      <td>-0.880</td>\n",
       "      <td>-2.14</td>\n",
       "      <td>0.465</td>\n",
       "    </tr>\n",
       "    <tr>\n",
       "      <th>3</th>\n",
       "      <td>2.38</td>\n",
       "      <td>-0.356</td>\n",
       "      <td>0.731</td>\n",
       "      <td>-1.250</td>\n",
       "      <td>0.391</td>\n",
       "      <td>0.362</td>\n",
       "      <td>-0.817</td>\n",
       "      <td>1.000</td>\n",
       "      <td>1.85</td>\n",
       "      <td>-0.260</td>\n",
       "    </tr>\n",
       "    <tr>\n",
       "      <th>4</th>\n",
       "      <td>1.87</td>\n",
       "      <td>-0.568</td>\n",
       "      <td>0.440</td>\n",
       "      <td>-0.856</td>\n",
       "      <td>0.401</td>\n",
       "      <td>0.576</td>\n",
       "      <td>-0.568</td>\n",
       "      <td>0.793</td>\n",
       "      <td>1.55</td>\n",
       "      <td>-0.412</td>\n",
       "    </tr>\n",
       "  </tbody>\n",
       "</table>\n",
       "</div>"
      ],
      "text/plain": [
       "     V1     V2     V3     V4     V5     V6     V7     V8    V9    V10\n",
       "0 -2.97  1.020 -2.340  3.460  1.630  0.157 -2.660  0.559 -5.27  1.960\n",
       "1  4.30 -0.817  1.410 -2.160  0.673  0.870 -1.220  1.620  3.43 -0.771\n",
       "2 -2.62  0.378 -1.010  1.430 -0.278 -0.384  0.613 -0.880 -2.14  0.465\n",
       "3  2.38 -0.356  0.731 -1.250  0.391  0.362 -0.817  1.000  1.85 -0.260\n",
       "4  1.87 -0.568  0.440 -0.856  0.401  0.576 -0.568  0.793  1.55 -0.412"
      ]
     },
     "execution_count": 2,
     "metadata": {},
     "output_type": "execute_result"
    }
   ],
   "source": [
    "data = pd.read_csv('dados3.csv')\n",
    "data.head()"
   ]
  },
  {
   "cell_type": "code",
   "execution_count": 3,
   "metadata": {
    "colab": {
     "base_uri": "https://localhost:8080/"
    },
    "id": "O8-43yaX9H3I",
    "outputId": "409d3321-586a-4329-b05e-7773c1b9a72a"
   },
   "outputs": [
    {
     "data": {
      "text/plain": [
       "(907, 10)"
      ]
     },
     "execution_count": 3,
     "metadata": {},
     "output_type": "execute_result"
    }
   ],
   "source": [
    "data.shape"
   ]
  },
  {
   "cell_type": "markdown",
   "metadata": {
    "id": "VoPy2DYs9LfU"
   },
   "source": [
    "## Local Outlier Factor"
   ]
  },
  {
   "cell_type": "code",
   "execution_count": 26,
   "metadata": {
    "id": "CaZsq6mm9KNQ"
   },
   "outputs": [
    {
     "data": {
      "text/plain": [
       "{-1: 19, 1: 888}"
      ]
     },
     "execution_count": 26,
     "metadata": {},
     "output_type": "execute_result"
    }
   ],
   "source": [
    "clf = LocalOutlierFactor(n_neighbors=100, contamination=0.02)\n",
    "ol = clf.fit_predict(data)\n",
    "unique, counts = np.unique(ol, return_counts=True)\n",
    "dict(zip(unique, counts))"
   ]
  },
  {
   "cell_type": "markdown",
   "metadata": {},
   "source": [
    "Considerando o LOF com número de vizinhos de 100 e índice de contaminação de 2%, obtivemos 19 outliers."
   ]
  },
  {
   "cell_type": "markdown",
   "metadata": {
    "id": "T7BxZpe4HyVB"
   },
   "source": [
    "## Isolation Forest"
   ]
  },
  {
   "cell_type": "code",
   "execution_count": 34,
   "metadata": {
    "colab": {
     "base_uri": "https://localhost:8080/",
     "height": 385
    },
    "id": "nUZglXVnEaqV",
    "outputId": "0865b84a-b3a6-4000-c825-b1327cf46b02",
    "scrolled": false
   },
   "outputs": [
    {
     "data": {
      "text/plain": [
       "{-1: 19, 1: 888}"
      ]
     },
     "execution_count": 34,
     "metadata": {},
     "output_type": "execute_result"
    }
   ],
   "source": [
    "clf = IsolationForest(random_state=42, contamination=0.02).fit(data)\n",
    "ol = clf.predict(data)\n",
    "unique, counts = np.unique(ol, return_counts=True)\n",
    "dict(zip(unique, counts))"
   ]
  },
  {
   "cell_type": "markdown",
   "metadata": {},
   "source": [
    "Considerando o default (100 árvores), com índice de contaminação de 2%, obtivemos 19 outliers."
   ]
  },
  {
   "cell_type": "markdown",
   "metadata": {},
   "source": [
    "## One Class SVM"
   ]
  },
  {
   "cell_type": "code",
   "execution_count": 41,
   "metadata": {},
   "outputs": [
    {
     "data": {
      "text/plain": [
       "{-1: 19, 1: 888}"
      ]
     },
     "execution_count": 41,
     "metadata": {},
     "output_type": "execute_result"
    }
   ],
   "source": [
    "clf = svm.OneClassSVM(nu=0.02, kernel=\"rbf\").fit(data)\n",
    "ol = clf.predict(data)\n",
    "unique, counts = np.unique(ol, return_counts=True)\n",
    "dict(zip(unique, counts))"
   ]
  },
  {
   "cell_type": "markdown",
   "metadata": {},
   "source": [
    "Inserindo o nu equivalente ao índice de contaminação anteriormente definido (2%), o resultado obtido foi igual aos anteriores, 19 outliers."
   ]
  }
 ],
 "metadata": {
  "colab": {
   "name": "Trabalho_2.ipynb",
   "provenance": []
  },
  "kernelspec": {
   "display_name": "Python 3",
   "language": "python",
   "name": "python3"
  },
  "language_info": {
   "codemirror_mode": {
    "name": "ipython",
    "version": 3
   },
   "file_extension": ".py",
   "mimetype": "text/x-python",
   "name": "python",
   "nbconvert_exporter": "python",
   "pygments_lexer": "ipython3",
   "version": "3.8.10"
  }
 },
 "nbformat": 4,
 "nbformat_minor": 1
}
