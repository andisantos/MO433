{
  "nbformat": 4,
  "nbformat_minor": 0,
  "metadata": {
    "colab": {
      "name": "Trabalho_1_R.ipynb",
      "provenance": [],
      "collapsed_sections": []
    },
    "kernelspec": {
      "name": "ir",
      "display_name": "R"
    },
    "language_info": {
      "name": "R"
    }
  },
  "cells": [
    {
      "cell_type": "code",
      "metadata": {
        "colab": {
          "base_uri": "https://localhost:8080/"
        },
        "id": "DS7Ev5kvUJEC",
        "outputId": "157cf8e3-0cc1-402a-8666-d51a44b2afdb"
      },
      "source": [
        "install.packages(\"arules\")\n",
        "library(\"arules\")"
      ],
      "execution_count": 33,
      "outputs": [
        {
          "output_type": "stream",
          "name": "stderr",
          "text": [
            "Installing package into ‘/usr/local/lib/R/site-library’\n",
            "(as ‘lib’ is unspecified)\n",
            "\n"
          ]
        }
      ]
    },
    {
      "cell_type": "code",
      "metadata": {
        "colab": {
          "base_uri": "https://localhost:8080/",
          "height": 68
        },
        "id": "iR9Fw0TCQLoH",
        "outputId": "7942023a-7e8b-469d-8962-1f9f9c66b02a"
      },
      "source": [
        "# Leitura dos dados \n",
        "retail <- read.transactions(\"http://fimi.uantwerpen.be/data/retail.dat\", format = \"basket\")\n",
        "retail"
      ],
      "execution_count": 34,
      "outputs": [
        {
          "output_type": "display_data",
          "data": {
            "text/plain": [
              "transactions in sparse format with\n",
              " 88162 transactions (rows) and\n",
              " 16470 items (columns)"
            ]
          },
          "metadata": {}
        }
      ]
    },
    {
      "cell_type": "code",
      "metadata": {
        "colab": {
          "base_uri": "https://localhost:8080/"
        },
        "id": "WN0-uKa-UvHA",
        "outputId": "9b43c165-6f07-45b1-b4dd-19ef02bcdc36"
      },
      "source": [
        "# Criação das regras\n",
        "rules <- apriori(retail, parameter = list(supp = 0.005, conf = 0.9, target = \"rules\"))"
      ],
      "execution_count": 35,
      "outputs": [
        {
          "output_type": "stream",
          "name": "stdout",
          "text": [
            "Apriori\n",
            "\n",
            "Parameter specification:\n",
            " confidence minval smax arem  aval originalSupport maxtime support minlen\n",
            "        0.9    0.1    1 none FALSE            TRUE       5   0.005      1\n",
            " maxlen target  ext\n",
            "     10  rules TRUE\n",
            "\n",
            "Algorithmic control:\n",
            " filter tree heap memopt load sort verbose\n",
            "    0.1 TRUE TRUE  FALSE TRUE    2    TRUE\n",
            "\n",
            "Absolute minimum support count: 440 \n",
            "\n",
            "set item appearances ...[0 item(s)] done [0.00s].\n",
            "set transactions ...[16470 item(s), 88162 transaction(s)] done [0.39s].\n",
            "sorting and recoding items ... [221 item(s)] done [0.01s].\n",
            "creating transaction tree ... done [0.03s].\n",
            "checking subsets of size 1 2 3 4 5 done [0.02s].\n",
            "writing ... [37 rule(s)] done [0.00s].\n",
            "creating S4 object  ... done [0.01s].\n"
          ]
        }
      ]
    },
    {
      "cell_type": "code",
      "metadata": {
        "colab": {
          "base_uri": "https://localhost:8080/"
        },
        "id": "vlQQSrdDVclX",
        "outputId": "96ded40e-52c5-4bcb-e291-4e0f89b23b87"
      },
      "source": [
        "# Regras encontradas\n",
        "inspect(rules)"
      ],
      "execution_count": 36,
      "outputs": [
        {
          "output_type": "stream",
          "name": "stdout",
          "text": [
            "     lhs            rhs     support     confidence coverage    lift      count\n",
            "[1]  {56}        => {38}    0.005830176 0.9607477  0.006068374  5.430972  514 \n",
            "[2]  {55}        => {38}    0.007452190 0.9332386  0.007985300  5.275467  657 \n",
            "[3]  {790}       => {38}    0.005762120 0.9713193  0.005932261  5.490732  508 \n",
            "[4]  {105}       => {38}    0.007293392 0.9786910  0.007452190  5.532403  643 \n",
            "[5]  {371}       => {38}    0.008699893 0.9808184  0.008870035  5.544429  767 \n",
            "[6]  {16011}     => {16010} 0.007384134 0.9730942  0.007588303 65.189915  651 \n",
            "[7]  {37}        => {38}    0.011864522 0.9739292  0.012182119  5.505485 1046 \n",
            "[8]  {286}       => {38}    0.012658515 0.9433643  0.013418480  5.332706 1116 \n",
            "[9]  {110}       => {38}    0.030909008 0.9753042  0.031691659  5.513258 2725 \n",
            "[10] {36}        => {38}    0.031646288 0.9502725  0.033302330  5.371757 2790 \n",
            "[11] {170}       => {38}    0.034379892 0.9780574  0.035151199  5.528821 3031 \n",
            "[12] {105,39}    => {38}    0.005092897 0.9868132  0.005160954  5.578317  449 \n",
            "[13] {371,39}    => {38}    0.005966289 0.9887218  0.006034346  5.589106  526 \n",
            "[14] {37,48}     => {38}    0.006317915 0.9858407  0.006408657  5.572819  557 \n",
            "[15] {37,39}     => {38}    0.007758445 0.9674682  0.008019328  5.468962  684 \n",
            "[16] {286,48}    => {38}    0.006590141 0.9830795  0.006703568  5.557211  581 \n",
            "[17] {286,39}    => {38}    0.008257526 0.9706667  0.008507067  5.487042  728 \n",
            "[18] {110,32}    => {38}    0.005024841 0.9866370  0.005092897  5.577320  443 \n",
            "[19] {110,41}    => {38}    0.007554275 0.9837518  0.007679045  5.561011  666 \n",
            "[20] {110,48}    => {38}    0.015437490 0.9862319  0.015653002  5.575030 1361 \n",
            "[21] {110,39}    => {38}    0.019736394 0.9891984  0.019951907  5.591800 1740 \n",
            "[22] {32,36}     => {38}    0.005353781 0.9554656  0.005603321  5.401113  472 \n",
            "[23] {36,41}     => {38}    0.007610989 0.9585714  0.007939929  5.418670  671 \n",
            "[24] {36,48}     => {38}    0.015426147 0.9604520  0.016061342  5.429300 1360 \n",
            "[25] {36,39}     => {38}    0.022061659 0.9548355  0.023105193  5.397551 1945 \n",
            "[26] {170,32}    => {38}    0.006034346 0.9851852  0.006125088  5.569114  532 \n",
            "[27] {170,41}    => {38}    0.009006148 0.9863354  0.009130918  5.575616  794 \n",
            "[28] {170,48}    => {38}    0.017445158 0.9877970  0.017660670  5.583878 1538 \n",
            "[29] {170,39}    => {38}    0.022901023 0.9805731  0.023354733  5.543042 2019 \n",
            "[30] {286,39,48} => {38}    0.005194982 0.9870690  0.005263038  5.579762  458 \n",
            "[31] {110,39,41} => {38}    0.005796148 0.9922330  0.005841519  5.608954  511 \n",
            "[32] {110,39,48} => {38}    0.011694381 0.9942141  0.011762437  5.620153 1031 \n",
            "[33] {36,39,41}  => {38}    0.006272544 0.9667832  0.006488056  5.465090  553 \n",
            "[34] {36,39,48}  => {38}    0.012250176 0.9677419  0.012658515  5.470509 1080 \n",
            "[35] {170,41,48} => {38}    0.005489894 0.9837398  0.005580636  5.560943  484 \n",
            "[36] {170,39,41} => {38}    0.006975795 0.9855769  0.007077879  5.571328  615 \n",
            "[37] {170,39,48} => {38}    0.013531907 0.9892206  0.013679363  5.591925 1193 \n"
          ]
        }
      ]
    },
    {
      "cell_type": "code",
      "metadata": {
        "colab": {
          "base_uri": "https://localhost:8080/",
          "height": 493
        },
        "id": "aVZM_xkStSCm",
        "outputId": "49e5ce0b-ee45-4299-98c4-ec191830b6df"
      },
      "source": [
        "# Estatísticas encontradas\n",
        "summary(rules)"
      ],
      "execution_count": 37,
      "outputs": [
        {
          "output_type": "display_data",
          "data": {
            "text/plain": [
              "set of 37 rules\n",
              "\n",
              "rule length distribution (lhs + rhs):sizes\n",
              " 2  3  4 \n",
              "11 18  8 \n",
              "\n",
              "   Min. 1st Qu.  Median    Mean 3rd Qu.    Max. \n",
              "  2.000   2.000   3.000   2.919   3.000   4.000 \n",
              "\n",
              "summary of quality measures:\n",
              "    support           confidence        coverage             lift       \n",
              " Min.   :0.005025   Min.   :0.9332   Min.   :0.005093   Min.   : 5.275  \n",
              " 1st Qu.:0.006034   1st Qu.:0.9675   1st Qu.:0.006125   1st Qu.: 5.469  \n",
              " Median :0.007611   Median :0.9806   Median :0.007985   Median : 5.544  \n",
              " Mean   :0.011477   Mean   :0.9752   Mean   :0.011789   Mean   : 7.126  \n",
              " 3rd Qu.:0.013532   3rd Qu.:0.9863   3rd Qu.:0.013679   3rd Qu.: 5.577  \n",
              " Max.   :0.034380   Max.   :0.9942   Max.   :0.035151   Max.   :65.190  \n",
              "     count     \n",
              " Min.   : 443  \n",
              " 1st Qu.: 532  \n",
              " Median : 671  \n",
              " Mean   :1012  \n",
              " 3rd Qu.:1193  \n",
              " Max.   :3031  \n",
              "\n",
              "mining info:\n",
              "   data ntransactions support confidence\n",
              " retail         88162   0.005        0.9"
            ]
          },
          "metadata": {}
        }
      ]
    }
  ]
}