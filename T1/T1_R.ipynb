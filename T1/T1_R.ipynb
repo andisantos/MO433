{
 "cells": [
  {
   "cell_type": "markdown",
   "metadata": {
    "id": "9zwGteXzsFxv"
   },
   "source": [
    "\n",
    "\n",
    "# Tarefa 01 - Regras de Associação\n",
    "\n",
    "Andreza Aparecida dos Santos - RA 164213 \\\n",
    "Gil Ribeiro de Carvalho - RA 225323 \\\n",
    "Thamiris Coelho - RA 187506"
   ]
  },
  {
   "cell_type": "code",
   "execution_count": 2,
   "metadata": {
    "id": "DS7Ev5kvUJEC"
   },
   "outputs": [],
   "source": [
    "library(\"arules\")"
   ]
  },
  {
   "cell_type": "markdown",
   "metadata": {
    "id": "JtGzLrNuvYbn"
   },
   "source": [
    "## Leitura dos Dados\n",
    "\n",
    "Neste trabalho estamos utilizando dados reais de compras de uma loja na Bélgica.\n",
    "Os dados estão organizados da seguinte forma: \n",
    "  - Cada linha é uma transação que representa um carrinho de compras e é composta por uma sequência de números separados por espaços em branco. Cada número é o ID de um item.\n",
    "\n",
    "No total, temos 88162 compras (linhas) na base de dados e 16470 itens diferentes.\n"
   ]
  },
  {
   "cell_type": "code",
   "execution_count": 3,
   "metadata": {
    "colab": {
     "base_uri": "https://localhost:8080/"
    },
    "id": "iR9Fw0TCQLoH",
    "outputId": "f557a5e2-e038-4d3f-fc69-f61094566d12"
   },
   "outputs": [
    {
     "data": {
      "text/plain": [
       "transactions in sparse format with\n",
       " 88162 transactions (rows) and\n",
       " 16470 items (columns)"
      ]
     },
     "metadata": {},
     "output_type": "display_data"
    }
   ],
   "source": [
    "retail <- read.transactions(\"http://fimi.uantwerpen.be/data/retail.dat\", \n",
    "                            format = \"basket\")\n",
    "retail"
   ]
  },
  {
   "cell_type": "markdown",
   "metadata": {
    "id": "SFauFJdrvhd3"
   },
   "source": [
    "# Criação das regras\n",
    "\n",
    "Aqui queremos encontrar somente as regras que tenham suporte mínimo de 0,005 e confiança mínima de 0,9"
   ]
  },
  {
   "cell_type": "code",
   "execution_count": 4,
   "metadata": {
    "colab": {
     "base_uri": "https://localhost:8080/"
    },
    "id": "WN0-uKa-UvHA",
    "outputId": "beac7362-7a00-49dd-d2d3-9dbfe33fee6b"
   },
   "outputs": [
    {
     "name": "stdout",
     "output_type": "stream",
     "text": [
      "Apriori\n",
      "\n",
      "Parameter specification:\n",
      " confidence minval smax arem  aval originalSupport maxtime support minlen\n",
      "        0.9    0.1    1 none FALSE            TRUE       5   0.005      1\n",
      " maxlen target   ext\n",
      "     10  rules FALSE\n",
      "\n",
      "Algorithmic control:\n",
      " filter tree heap memopt load sort verbose\n",
      "    0.1 TRUE TRUE  FALSE TRUE    2    TRUE\n",
      "\n",
      "Absolute minimum support count: 440 \n",
      "\n",
      "set item appearances ...[0 item(s)] done [0.00s].\n",
      "set transactions ...[16470 item(s), 88162 transaction(s)] done [0.48s].\n",
      "sorting and recoding items ... [221 item(s)] done [0.01s].\n",
      "creating transaction tree ... done [0.06s].\n",
      "checking subsets of size 1 2 3 4 5 done [0.02s].\n",
      "writing ... [37 rule(s)] done [0.00s].\n",
      "creating S4 object  ... done [0.04s].\n"
     ]
    }
   ],
   "source": [
    "rules <- apriori(retail, parameter = list(supp = 0.005, conf = 0.9, \n",
    "                                          target = \"rules\"))"
   ]
  },
  {
   "cell_type": "markdown",
   "metadata": {
    "id": "h4j_PrMQvqDB"
   },
   "source": [
    "## Resultado de regras encontradas\n",
    "\n",
    "Podemos perceber que, dada a limitação do suporte e da confiança, vemos que a maioria das regras encontradas no conjunto de dados levam a compra do item 38.\n",
    "\n",
    "Além disso, temos uma única regra que obedece essa limitação que leva ao item 16010.\n",
    "\n",
    "Das regras encontradas, a compra dos itens {110,39,48} (regra número 32) possui a maior confiança, com valor de 0,9942141. Sendo que o item 39 é o que mais aparece nas regras obtidas, compondo 13 das 37 regras.\n",
    "\n",
    "\n"
   ]
  },
  {
   "cell_type": "code",
   "execution_count": 5,
   "metadata": {
    "colab": {
     "base_uri": "https://localhost:8080/"
    },
    "id": "vlQQSrdDVclX",
    "outputId": "fbfc1db9-a519-4e27-919b-3d5a0573662f"
   },
   "outputs": [
    {
     "name": "stdout",
     "output_type": "stream",
     "text": [
      "     lhs            rhs     support     confidence lift      count\n",
      "[1]  {56}        => {38}    0.005830176 0.9607477   5.430972  514 \n",
      "[2]  {55}        => {38}    0.007452190 0.9332386   5.275467  657 \n",
      "[3]  {790}       => {38}    0.005762120 0.9713193   5.490732  508 \n",
      "[4]  {105}       => {38}    0.007293392 0.9786910   5.532403  643 \n",
      "[5]  {371}       => {38}    0.008699893 0.9808184   5.544429  767 \n",
      "[6]  {16011}     => {16010} 0.007384134 0.9730942  65.189915  651 \n",
      "[7]  {37}        => {38}    0.011864522 0.9739292   5.505485 1046 \n",
      "[8]  {286}       => {38}    0.012658515 0.9433643   5.332706 1116 \n",
      "[9]  {110}       => {38}    0.030909008 0.9753042   5.513258 2725 \n",
      "[10] {36}        => {38}    0.031646288 0.9502725   5.371757 2790 \n",
      "[11] {170}       => {38}    0.034379892 0.9780574   5.528821 3031 \n",
      "[12] {105,39}    => {38}    0.005092897 0.9868132   5.578317  449 \n",
      "[13] {371,39}    => {38}    0.005966289 0.9887218   5.589106  526 \n",
      "[14] {37,48}     => {38}    0.006317915 0.9858407   5.572819  557 \n",
      "[15] {37,39}     => {38}    0.007758445 0.9674682   5.468962  684 \n",
      "[16] {286,48}    => {38}    0.006590141 0.9830795   5.557211  581 \n",
      "[17] {286,39}    => {38}    0.008257526 0.9706667   5.487042  728 \n",
      "[18] {110,32}    => {38}    0.005024841 0.9866370   5.577320  443 \n",
      "[19] {110,41}    => {38}    0.007554275 0.9837518   5.561011  666 \n",
      "[20] {110,48}    => {38}    0.015437490 0.9862319   5.575030 1361 \n",
      "[21] {110,39}    => {38}    0.019736394 0.9891984   5.591800 1740 \n",
      "[22] {32,36}     => {38}    0.005353781 0.9554656   5.401113  472 \n",
      "[23] {36,41}     => {38}    0.007610989 0.9585714   5.418670  671 \n",
      "[24] {36,48}     => {38}    0.015426147 0.9604520   5.429300 1360 \n",
      "[25] {36,39}     => {38}    0.022061659 0.9548355   5.397551 1945 \n",
      "[26] {170,32}    => {38}    0.006034346 0.9851852   5.569114  532 \n",
      "[27] {170,41}    => {38}    0.009006148 0.9863354   5.575616  794 \n",
      "[28] {170,48}    => {38}    0.017445158 0.9877970   5.583878 1538 \n",
      "[29] {170,39}    => {38}    0.022901023 0.9805731   5.543042 2019 \n",
      "[30] {286,39,48} => {38}    0.005194982 0.9870690   5.579762  458 \n",
      "[31] {110,39,41} => {38}    0.005796148 0.9922330   5.608954  511 \n",
      "[32] {110,39,48} => {38}    0.011694381 0.9942141   5.620153 1031 \n",
      "[33] {36,39,41}  => {38}    0.006272544 0.9667832   5.465090  553 \n",
      "[34] {36,39,48}  => {38}    0.012250176 0.9677419   5.470509 1080 \n",
      "[35] {170,41,48} => {38}    0.005489894 0.9837398   5.560943  484 \n",
      "[36] {170,39,41} => {38}    0.006975795 0.9855769   5.571328  615 \n",
      "[37] {170,39,48} => {38}    0.013531907 0.9892206   5.591925 1193 \n"
     ]
    }
   ],
   "source": [
    "inspect(rules)"
   ]
  },
  {
   "cell_type": "markdown",
   "metadata": {
    "id": "xbx_oTDBvyv1"
   },
   "source": [
    "## Análise estatística das regras"
   ]
  },
  {
   "cell_type": "code",
   "execution_count": 6,
   "metadata": {
    "colab": {
     "base_uri": "https://localhost:8080/"
    },
    "id": "aVZM_xkStSCm",
    "outputId": "d112e89c-4756-4377-b455-f2bf6acd28b4"
   },
   "outputs": [
    {
     "data": {
      "text/plain": [
       "set of 37 rules\n",
       "\n",
       "rule length distribution (lhs + rhs):sizes\n",
       " 2  3  4 \n",
       "11 18  8 \n",
       "\n",
       "   Min. 1st Qu.  Median    Mean 3rd Qu.    Max. \n",
       "  2.000   2.000   3.000   2.919   3.000   4.000 \n",
       "\n",
       "summary of quality measures:\n",
       "    support           confidence          lift            count     \n",
       " Min.   :0.005025   Min.   :0.9332   Min.   : 5.275   Min.   : 443  \n",
       " 1st Qu.:0.006034   1st Qu.:0.9675   1st Qu.: 5.469   1st Qu.: 532  \n",
       " Median :0.007611   Median :0.9806   Median : 5.544   Median : 671  \n",
       " Mean   :0.011477   Mean   :0.9752   Mean   : 7.126   Mean   :1012  \n",
       " 3rd Qu.:0.013532   3rd Qu.:0.9863   3rd Qu.: 5.577   3rd Qu.:1193  \n",
       " Max.   :0.034380   Max.   :0.9942   Max.   :65.190   Max.   :3031  \n",
       "\n",
       "mining info:\n",
       "   data ntransactions support confidence\n",
       " retail         88162   0.005        0.9"
      ]
     },
     "metadata": {},
     "output_type": "display_data"
    }
   ],
   "source": [
    "summary(rules)"
   ]
  }
 ],
 "metadata": {
  "accelerator": "GPU",
  "colab": {
   "collapsed_sections": [],
   "name": "T1_R.ipynb",
   "provenance": []
  },
  "kernelspec": {
   "display_name": "R",
   "language": "R",
   "name": "ir"
  },
  "language_info": {
   "codemirror_mode": "r",
   "file_extension": ".r",
   "mimetype": "text/x-r-source",
   "name": "R",
   "pygments_lexer": "r",
   "version": "3.6.1"
  }
 },
 "nbformat": 4,
 "nbformat_minor": 1
}
