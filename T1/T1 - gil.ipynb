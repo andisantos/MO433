{
 "cells": [
  {
   "cell_type": "markdown",
   "id": "5184c963",
   "metadata": {},
   "source": [
    "# Tarefa 1 - MO433"
   ]
  },
  {
   "cell_type": "markdown",
   "id": "6cbeff61",
   "metadata": {},
   "source": [
    "Alunos:\n",
    "* Andreza Santos - RA 164213\n",
    "* Gil Ribeiro de Carvalho - RA 225323\n",
    "* Thamiris Coelho - RA "
   ]
  },
  {
   "cell_type": "markdown",
   "id": "fd778097",
   "metadata": {},
   "source": [
    "Tarefa:\n",
    "* Leia o dataset em http://fimi.ua.ac.be/data/retail.dat que é um dataset real de compras no varejo em uma loja na Belgica.\n",
    "* Descubra as regras de associação que tenham suporte mínimo de 0.005 e confiança minima de 0.9"
   ]
  },
  {
   "cell_type": "code",
   "execution_count": 22,
   "id": "b21a6839",
   "metadata": {},
   "outputs": [],
   "source": [
    "from efficient_apriori import apriori"
   ]
  },
  {
   "cell_type": "code",
   "execution_count": 23,
   "id": "3958ceaf",
   "metadata": {
    "scrolled": true
   },
   "outputs": [],
   "source": [
    "transactions = []\n",
    "f = open(\"retail.txt\", \"r\")\n",
    "for x in f:\n",
    "    items_tuple = tuple(x.split())\n",
    "    transactions.append(items_tuple)\n",
    "f.close()"
   ]
  },
  {
   "cell_type": "code",
   "execution_count": 24,
   "id": "cb9a96bf",
   "metadata": {},
   "outputs": [
    {
     "name": "stdout",
     "output_type": "stream",
     "text": [
      "('0', '1', '2', '3', '4', '5', '6', '7', '8', '9', '10', '11', '12', '13', '14', '15', '16', '17', '18', '19', '20', '21', '22', '23', '24', '25', '26', '27', '28', '29')\n",
      "('30', '31', '32')\n",
      "('33', '34', '35')\n"
     ]
    },
    {
     "data": {
      "text/plain": [
       "list"
      ]
     },
     "execution_count": 24,
     "metadata": {},
     "output_type": "execute_result"
    }
   ],
   "source": [
    "print(transactions[0])\n",
    "print(transactions[1])\n",
    "print(transactions[2])\n",
    "type(transactions)"
   ]
  },
  {
   "cell_type": "code",
   "execution_count": 27,
   "id": "f8474802",
   "metadata": {},
   "outputs": [
    {
     "name": "stdout",
     "output_type": "stream",
     "text": [
      "[{105} -> {38}, {110} -> {38}, {16011} -> {16010}, {170} -> {38}, {286} -> {38}, {36} -> {38}, {37} -> {38}, {371} -> {38}, {55} -> {38}, {56} -> {38}, {790} -> {38}, {105, 39} -> {38}, {110, 32} -> {38}, {110, 39} -> {38}, {110, 41} -> {38}, {110, 48} -> {38}, {170, 32} -> {38}, {170, 39} -> {38}, {170, 41} -> {38}, {170, 48} -> {38}, {286, 39} -> {38}, {286, 48} -> {38}, {32, 36} -> {38}, {36, 39} -> {38}, {36, 41} -> {38}, {36, 48} -> {38}, {37, 39} -> {38}, {37, 48} -> {38}, {371, 39} -> {38}, {110, 39, 41} -> {38}, {110, 39, 48} -> {38}, {170, 39, 41} -> {38}, {170, 39, 48} -> {38}, {170, 41, 48} -> {38}, {286, 39, 48} -> {38}, {36, 39, 41} -> {38}, {36, 39, 48} -> {38}]\n"
     ]
    }
   ],
   "source": [
    "itemsets, rules = apriori(transactions, min_support=0.005, min_confidence=0.9)\n",
    "print(rules)"
   ]
  },
  {
   "cell_type": "code",
   "execution_count": 28,
   "id": "4a181392",
   "metadata": {},
   "outputs": [
    {
     "name": "stdout",
     "output_type": "stream",
     "text": [
      "{105} -> {38} (conf: 0.979, supp: 0.007, lift: 5.532, conv: 38.627)\n",
      "{110} -> {38} (conf: 0.975, supp: 0.031, lift: 5.513, conv: 33.330)\n",
      "{16011} -> {16010} (conf: 0.973, supp: 0.007, lift: 65.190, conv: 36.612)\n",
      "{170} -> {38} (conf: 0.978, supp: 0.034, lift: 5.529, conv: 37.511)\n",
      "{286} -> {38} (conf: 0.943, supp: 0.013, lift: 5.333, conv: 14.533)\n",
      "{36} -> {38} (conf: 0.950, supp: 0.032, lift: 5.372, conv: 16.552)\n",
      "{37} -> {38} (conf: 0.974, supp: 0.012, lift: 5.505, conv: 31.572)\n",
      "{371} -> {38} (conf: 0.981, supp: 0.009, lift: 5.544, conv: 42.911)\n",
      "{55} -> {38} (conf: 0.933, supp: 0.007, lift: 5.275, conv: 12.329)\n",
      "{56} -> {38} (conf: 0.961, supp: 0.006, lift: 5.431, conv: 20.969)\n",
      "{790} -> {38} (conf: 0.971, supp: 0.006, lift: 5.491, conv: 28.699)\n",
      "{105, 39} -> {38} (conf: 0.987, supp: 0.005, lift: 5.578, conv: 62.418)\n",
      "{110, 32} -> {38} (conf: 0.987, supp: 0.005, lift: 5.577, conv: 61.595)\n",
      "{110, 39} -> {38} (conf: 0.989, supp: 0.020, lift: 5.592, conv: 76.202)\n",
      "{110, 41} -> {38} (conf: 0.984, supp: 0.008, lift: 5.561, conv: 50.658)\n",
      "{110, 48} -> {38} (conf: 0.986, supp: 0.015, lift: 5.575, conv: 59.783)\n",
      "{170, 32} -> {38} (conf: 0.985, supp: 0.006, lift: 5.569, conv: 55.559)\n",
      "{170, 39} -> {38} (conf: 0.981, supp: 0.023, lift: 5.543, conv: 42.369)\n",
      "{170, 41} -> {38} (conf: 0.986, supp: 0.009, lift: 5.576, conv: 60.236)\n",
      "{170, 48} -> {38} (conf: 0.988, supp: 0.017, lift: 5.584, conv: 67.451)\n",
      "{286, 39} -> {38} (conf: 0.971, supp: 0.008, lift: 5.487, conv: 28.060)\n",
      "{286, 48} -> {38} (conf: 0.983, supp: 0.007, lift: 5.557, conv: 48.645)\n",
      "{32, 36} -> {38} (conf: 0.955, supp: 0.005, lift: 5.401, conv: 18.482)\n",
      "{36, 39} -> {38} (conf: 0.955, supp: 0.022, lift: 5.398, conv: 18.224)\n",
      "{36, 41} -> {38} (conf: 0.959, supp: 0.008, lift: 5.419, conv: 19.868)\n",
      "{36, 48} -> {38} (conf: 0.960, supp: 0.015, lift: 5.429, conv: 20.813)\n",
      "{37, 39} -> {38} (conf: 0.967, supp: 0.008, lift: 5.469, conv: 25.301)\n",
      "{37, 48} -> {38} (conf: 0.986, supp: 0.006, lift: 5.573, conv: 58.131)\n",
      "{371, 39} -> {38} (conf: 0.989, supp: 0.006, lift: 5.589, conv: 72.981)\n",
      "{110, 39, 41} -> {38} (conf: 0.992, supp: 0.006, lift: 5.609, conv: 105.974)\n",
      "{110, 39, 48} -> {38} (conf: 0.994, supp: 0.012, lift: 5.620, conv: 142.259)\n",
      "{170, 39, 41} -> {38} (conf: 0.986, supp: 0.007, lift: 5.571, conv: 57.068)\n",
      "{170, 39, 48} -> {38} (conf: 0.989, supp: 0.014, lift: 5.592, conv: 76.358)\n",
      "{170, 41, 48} -> {38} (conf: 0.984, supp: 0.005, lift: 5.561, conv: 50.621)\n",
      "{286, 39, 48} -> {38} (conf: 0.987, supp: 0.005, lift: 5.580, conv: 63.653)\n",
      "{36, 39, 41} -> {38} (conf: 0.967, supp: 0.006, lift: 5.465, conv: 24.780)\n",
      "{36, 39, 48} -> {38} (conf: 0.968, supp: 0.012, lift: 5.471, conv: 25.516)\n"
     ]
    }
   ],
   "source": [
    "for x in rules:\n",
    "    print(x)"
   ]
  },
  {
   "cell_type": "code",
   "execution_count": null,
   "id": "389bb292",
   "metadata": {},
   "outputs": [],
   "source": []
  }
 ],
 "metadata": {
  "kernelspec": {
   "display_name": "Python 3",
   "language": "python",
   "name": "python3"
  },
  "language_info": {
   "codemirror_mode": {
    "name": "ipython",
    "version": 3
   },
   "file_extension": ".py",
   "mimetype": "text/x-python",
   "name": "python",
   "nbconvert_exporter": "python",
   "pygments_lexer": "ipython3",
   "version": "3.8.10"
  }
 },
 "nbformat": 4,
 "nbformat_minor": 5
}
